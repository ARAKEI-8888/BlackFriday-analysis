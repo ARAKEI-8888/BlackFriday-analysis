{
 "cells": [
  {
   "cell_type": "markdown",
   "metadata": {},
   "source": [
    "# ランダムフォレスト回帰のテスト\n",
    "[参考]  \n",
    "http://tekenuko.hatenablog.com/entry/2016/09/20/222453"
   ]
  },
  {
   "cell_type": "code",
   "execution_count": 1,
   "metadata": {},
   "outputs": [],
   "source": [
    "# 必要なライブラリのインポート\n",
    "import numpy as np\n",
    "import pandas as pd\n",
    "from pandas import DataFrame\n",
    "from sklearn.datasets import load_boston\n",
    "# データのロード、マージ\n",
    "boston = load_boston()\n",
    "df = DataFrame(boston.data, columns = boston.feature_names)\n",
    "df['MEDV'] = np.array(boston.target)"
   ]
  },
  {
   "cell_type": "code",
   "execution_count": 2,
   "metadata": {},
   "outputs": [
    {
     "data": {
      "text/html": [
       "<div>\n",
       "<style scoped>\n",
       "    .dataframe tbody tr th:only-of-type {\n",
       "        vertical-align: middle;\n",
       "    }\n",
       "\n",
       "    .dataframe tbody tr th {\n",
       "        vertical-align: top;\n",
       "    }\n",
       "\n",
       "    .dataframe thead th {\n",
       "        text-align: right;\n",
       "    }\n",
       "</style>\n",
       "<table border=\"1\" class=\"dataframe\">\n",
       "  <thead>\n",
       "    <tr style=\"text-align: right;\">\n",
       "      <th></th>\n",
       "      <th>CRIM</th>\n",
       "      <th>ZN</th>\n",
       "      <th>INDUS</th>\n",
       "      <th>CHAS</th>\n",
       "      <th>NOX</th>\n",
       "      <th>RM</th>\n",
       "      <th>AGE</th>\n",
       "      <th>DIS</th>\n",
       "      <th>RAD</th>\n",
       "      <th>TAX</th>\n",
       "      <th>PTRATIO</th>\n",
       "      <th>B</th>\n",
       "      <th>LSTAT</th>\n",
       "      <th>MEDV</th>\n",
       "    </tr>\n",
       "  </thead>\n",
       "  <tbody>\n",
       "    <tr>\n",
       "      <th>0</th>\n",
       "      <td>0.00632</td>\n",
       "      <td>18.0</td>\n",
       "      <td>2.31</td>\n",
       "      <td>0.0</td>\n",
       "      <td>0.538</td>\n",
       "      <td>6.575</td>\n",
       "      <td>65.2</td>\n",
       "      <td>4.0900</td>\n",
       "      <td>1.0</td>\n",
       "      <td>296.0</td>\n",
       "      <td>15.3</td>\n",
       "      <td>396.90</td>\n",
       "      <td>4.98</td>\n",
       "      <td>24.0</td>\n",
       "    </tr>\n",
       "    <tr>\n",
       "      <th>1</th>\n",
       "      <td>0.02731</td>\n",
       "      <td>0.0</td>\n",
       "      <td>7.07</td>\n",
       "      <td>0.0</td>\n",
       "      <td>0.469</td>\n",
       "      <td>6.421</td>\n",
       "      <td>78.9</td>\n",
       "      <td>4.9671</td>\n",
       "      <td>2.0</td>\n",
       "      <td>242.0</td>\n",
       "      <td>17.8</td>\n",
       "      <td>396.90</td>\n",
       "      <td>9.14</td>\n",
       "      <td>21.6</td>\n",
       "    </tr>\n",
       "    <tr>\n",
       "      <th>2</th>\n",
       "      <td>0.02729</td>\n",
       "      <td>0.0</td>\n",
       "      <td>7.07</td>\n",
       "      <td>0.0</td>\n",
       "      <td>0.469</td>\n",
       "      <td>7.185</td>\n",
       "      <td>61.1</td>\n",
       "      <td>4.9671</td>\n",
       "      <td>2.0</td>\n",
       "      <td>242.0</td>\n",
       "      <td>17.8</td>\n",
       "      <td>392.83</td>\n",
       "      <td>4.03</td>\n",
       "      <td>34.7</td>\n",
       "    </tr>\n",
       "    <tr>\n",
       "      <th>3</th>\n",
       "      <td>0.03237</td>\n",
       "      <td>0.0</td>\n",
       "      <td>2.18</td>\n",
       "      <td>0.0</td>\n",
       "      <td>0.458</td>\n",
       "      <td>6.998</td>\n",
       "      <td>45.8</td>\n",
       "      <td>6.0622</td>\n",
       "      <td>3.0</td>\n",
       "      <td>222.0</td>\n",
       "      <td>18.7</td>\n",
       "      <td>394.63</td>\n",
       "      <td>2.94</td>\n",
       "      <td>33.4</td>\n",
       "    </tr>\n",
       "    <tr>\n",
       "      <th>4</th>\n",
       "      <td>0.06905</td>\n",
       "      <td>0.0</td>\n",
       "      <td>2.18</td>\n",
       "      <td>0.0</td>\n",
       "      <td>0.458</td>\n",
       "      <td>7.147</td>\n",
       "      <td>54.2</td>\n",
       "      <td>6.0622</td>\n",
       "      <td>3.0</td>\n",
       "      <td>222.0</td>\n",
       "      <td>18.7</td>\n",
       "      <td>396.90</td>\n",
       "      <td>5.33</td>\n",
       "      <td>36.2</td>\n",
       "    </tr>\n",
       "    <tr>\n",
       "      <th>5</th>\n",
       "      <td>0.02985</td>\n",
       "      <td>0.0</td>\n",
       "      <td>2.18</td>\n",
       "      <td>0.0</td>\n",
       "      <td>0.458</td>\n",
       "      <td>6.430</td>\n",
       "      <td>58.7</td>\n",
       "      <td>6.0622</td>\n",
       "      <td>3.0</td>\n",
       "      <td>222.0</td>\n",
       "      <td>18.7</td>\n",
       "      <td>394.12</td>\n",
       "      <td>5.21</td>\n",
       "      <td>28.7</td>\n",
       "    </tr>\n",
       "    <tr>\n",
       "      <th>6</th>\n",
       "      <td>0.08829</td>\n",
       "      <td>12.5</td>\n",
       "      <td>7.87</td>\n",
       "      <td>0.0</td>\n",
       "      <td>0.524</td>\n",
       "      <td>6.012</td>\n",
       "      <td>66.6</td>\n",
       "      <td>5.5605</td>\n",
       "      <td>5.0</td>\n",
       "      <td>311.0</td>\n",
       "      <td>15.2</td>\n",
       "      <td>395.60</td>\n",
       "      <td>12.43</td>\n",
       "      <td>22.9</td>\n",
       "    </tr>\n",
       "    <tr>\n",
       "      <th>7</th>\n",
       "      <td>0.14455</td>\n",
       "      <td>12.5</td>\n",
       "      <td>7.87</td>\n",
       "      <td>0.0</td>\n",
       "      <td>0.524</td>\n",
       "      <td>6.172</td>\n",
       "      <td>96.1</td>\n",
       "      <td>5.9505</td>\n",
       "      <td>5.0</td>\n",
       "      <td>311.0</td>\n",
       "      <td>15.2</td>\n",
       "      <td>396.90</td>\n",
       "      <td>19.15</td>\n",
       "      <td>27.1</td>\n",
       "    </tr>\n",
       "    <tr>\n",
       "      <th>8</th>\n",
       "      <td>0.21124</td>\n",
       "      <td>12.5</td>\n",
       "      <td>7.87</td>\n",
       "      <td>0.0</td>\n",
       "      <td>0.524</td>\n",
       "      <td>5.631</td>\n",
       "      <td>100.0</td>\n",
       "      <td>6.0821</td>\n",
       "      <td>5.0</td>\n",
       "      <td>311.0</td>\n",
       "      <td>15.2</td>\n",
       "      <td>386.63</td>\n",
       "      <td>29.93</td>\n",
       "      <td>16.5</td>\n",
       "    </tr>\n",
       "    <tr>\n",
       "      <th>9</th>\n",
       "      <td>0.17004</td>\n",
       "      <td>12.5</td>\n",
       "      <td>7.87</td>\n",
       "      <td>0.0</td>\n",
       "      <td>0.524</td>\n",
       "      <td>6.004</td>\n",
       "      <td>85.9</td>\n",
       "      <td>6.5921</td>\n",
       "      <td>5.0</td>\n",
       "      <td>311.0</td>\n",
       "      <td>15.2</td>\n",
       "      <td>386.71</td>\n",
       "      <td>17.10</td>\n",
       "      <td>18.9</td>\n",
       "    </tr>\n",
       "  </tbody>\n",
       "</table>\n",
       "</div>"
      ],
      "text/plain": [
       "      CRIM    ZN  INDUS  CHAS    NOX     RM    AGE     DIS  RAD    TAX  \\\n",
       "0  0.00632  18.0   2.31   0.0  0.538  6.575   65.2  4.0900  1.0  296.0   \n",
       "1  0.02731   0.0   7.07   0.0  0.469  6.421   78.9  4.9671  2.0  242.0   \n",
       "2  0.02729   0.0   7.07   0.0  0.469  7.185   61.1  4.9671  2.0  242.0   \n",
       "3  0.03237   0.0   2.18   0.0  0.458  6.998   45.8  6.0622  3.0  222.0   \n",
       "4  0.06905   0.0   2.18   0.0  0.458  7.147   54.2  6.0622  3.0  222.0   \n",
       "5  0.02985   0.0   2.18   0.0  0.458  6.430   58.7  6.0622  3.0  222.0   \n",
       "6  0.08829  12.5   7.87   0.0  0.524  6.012   66.6  5.5605  5.0  311.0   \n",
       "7  0.14455  12.5   7.87   0.0  0.524  6.172   96.1  5.9505  5.0  311.0   \n",
       "8  0.21124  12.5   7.87   0.0  0.524  5.631  100.0  6.0821  5.0  311.0   \n",
       "9  0.17004  12.5   7.87   0.0  0.524  6.004   85.9  6.5921  5.0  311.0   \n",
       "\n",
       "   PTRATIO       B  LSTAT  MEDV  \n",
       "0     15.3  396.90   4.98  24.0  \n",
       "1     17.8  396.90   9.14  21.6  \n",
       "2     17.8  392.83   4.03  34.7  \n",
       "3     18.7  394.63   2.94  33.4  \n",
       "4     18.7  396.90   5.33  36.2  \n",
       "5     18.7  394.12   5.21  28.7  \n",
       "6     15.2  395.60  12.43  22.9  \n",
       "7     15.2  396.90  19.15  27.1  \n",
       "8     15.2  386.63  29.93  16.5  \n",
       "9     15.2  386.71  17.10  18.9  "
      ]
     },
     "execution_count": 2,
     "metadata": {},
     "output_type": "execute_result"
    }
   ],
   "source": [
    "df.head(10)"
   ]
  },
  {
   "cell_type": "code",
   "execution_count": 16,
   "metadata": {},
   "outputs": [
    {
     "data": {
      "text/plain": [
       "RangeIndex(start=0, stop=506, step=1)"
      ]
     },
     "execution_count": 16,
     "metadata": {},
     "output_type": "execute_result"
    }
   ],
   "source": [
    "df.index"
   ]
  },
  {
   "cell_type": "code",
   "execution_count": 4,
   "metadata": {},
   "outputs": [
    {
     "name": "stderr",
     "output_type": "stream",
     "text": [
      "/Users/arakei/.pyenv/versions/anaconda3-5.1.0/lib/python3.6/site-packages/sklearn/cross_validation.py:41: DeprecationWarning: This module was deprecated in version 0.18 in favor of the model_selection module into which all the refactored classes and functions are moved. Also note that the interface of the new CV iterators are different from that of this module. This module will be removed in 0.20.\n",
      "  \"This module will be removed in 0.20.\", DeprecationWarning)\n"
     ]
    }
   ],
   "source": [
    "# 説明変数、目的変数\n",
    "X = df.iloc[:, :-1].values\n",
    "y = df.loc[:, 'MEDV'].values\n",
    "# 学習用、検証用データに分割\n",
    "from sklearn.cross_validation import train_test_split\n",
    "(X_train, X_test, y_train, y_test) = train_test_split(X, y, test_size = 0.3, random_state = 666)"
   ]
  },
  {
   "cell_type": "code",
   "execution_count": 22,
   "metadata": {},
   "outputs": [
    {
     "data": {
      "text/plain": [
       "array([[6.3200e-03, 1.8000e+01, 2.3100e+00, ..., 1.5300e+01, 3.9690e+02,\n",
       "        4.9800e+00],\n",
       "       [2.7310e-02, 0.0000e+00, 7.0700e+00, ..., 1.7800e+01, 3.9690e+02,\n",
       "        9.1400e+00],\n",
       "       [2.7290e-02, 0.0000e+00, 7.0700e+00, ..., 1.7800e+01, 3.9283e+02,\n",
       "        4.0300e+00],\n",
       "       ...,\n",
       "       [6.0760e-02, 0.0000e+00, 1.1930e+01, ..., 2.1000e+01, 3.9690e+02,\n",
       "        5.6400e+00],\n",
       "       [1.0959e-01, 0.0000e+00, 1.1930e+01, ..., 2.1000e+01, 3.9345e+02,\n",
       "        6.4800e+00],\n",
       "       [4.7410e-02, 0.0000e+00, 1.1930e+01, ..., 2.1000e+01, 3.9690e+02,\n",
       "        7.8800e+00]])"
      ]
     },
     "execution_count": 22,
     "metadata": {},
     "output_type": "execute_result"
    }
   ],
   "source": [
    "X"
   ]
  },
  {
   "cell_type": "code",
   "execution_count": 24,
   "metadata": {},
   "outputs": [
    {
     "data": {
      "text/plain": [
       "array([24. , 21.6, 34.7, 33.4, 36.2, 28.7, 22.9, 27.1, 16.5, 18.9, 15. ,\n",
       "       18.9, 21.7, 20.4, 18.2, 19.9, 23.1, 17.5, 20.2, 18.2, 13.6, 19.6,\n",
       "       15.2, 14.5, 15.6, 13.9, 16.6, 14.8, 18.4, 21. , 12.7, 14.5, 13.2,\n",
       "       13.1, 13.5, 18.9, 20. , 21. , 24.7, 30.8, 34.9, 26.6, 25.3, 24.7,\n",
       "       21.2, 19.3, 20. , 16.6, 14.4, 19.4, 19.7, 20.5, 25. , 23.4, 18.9,\n",
       "       35.4, 24.7, 31.6, 23.3, 19.6, 18.7, 16. , 22.2, 25. , 33. , 23.5,\n",
       "       19.4, 22. , 17.4, 20.9, 24.2, 21.7, 22.8, 23.4, 24.1, 21.4, 20. ,\n",
       "       20.8, 21.2, 20.3, 28. , 23.9, 24.8, 22.9, 23.9, 26.6, 22.5, 22.2,\n",
       "       23.6, 28.7, 22.6, 22. , 22.9, 25. , 20.6, 28.4, 21.4, 38.7, 43.8,\n",
       "       33.2, 27.5, 26.5, 18.6, 19.3, 20.1, 19.5, 19.5, 20.4, 19.8, 19.4,\n",
       "       21.7, 22.8, 18.8, 18.7, 18.5, 18.3, 21.2, 19.2, 20.4, 19.3, 22. ,\n",
       "       20.3, 20.5, 17.3, 18.8, 21.4, 15.7, 16.2, 18. , 14.3, 19.2, 19.6,\n",
       "       23. , 18.4, 15.6, 18.1, 17.4, 17.1, 13.3, 17.8, 14. , 14.4, 13.4,\n",
       "       15.6, 11.8, 13.8, 15.6, 14.6, 17.8, 15.4, 21.5, 19.6, 15.3, 19.4,\n",
       "       17. , 15.6, 13.1, 41.3, 24.3, 23.3, 27. , 50. , 50. , 50. , 22.7,\n",
       "       25. , 50. , 23.8, 23.8, 22.3, 17.4, 19.1, 23.1, 23.6, 22.6, 29.4,\n",
       "       23.2, 24.6, 29.9, 37.2, 39.8, 36.2, 37.9, 32.5, 26.4, 29.6, 50. ,\n",
       "       32. , 29.8, 34.9, 37. , 30.5, 36.4, 31.1, 29.1, 50. , 33.3, 30.3,\n",
       "       34.6, 34.9, 32.9, 24.1, 42.3, 48.5, 50. , 22.6, 24.4, 22.5, 24.4,\n",
       "       20. , 21.7, 19.3, 22.4, 28.1, 23.7, 25. , 23.3, 28.7, 21.5, 23. ,\n",
       "       26.7, 21.7, 27.5, 30.1, 44.8, 50. , 37.6, 31.6, 46.7, 31.5, 24.3,\n",
       "       31.7, 41.7, 48.3, 29. , 24. , 25.1, 31.5, 23.7, 23.3, 22. , 20.1,\n",
       "       22.2, 23.7, 17.6, 18.5, 24.3, 20.5, 24.5, 26.2, 24.4, 24.8, 29.6,\n",
       "       42.8, 21.9, 20.9, 44. , 50. , 36. , 30.1, 33.8, 43.1, 48.8, 31. ,\n",
       "       36.5, 22.8, 30.7, 50. , 43.5, 20.7, 21.1, 25.2, 24.4, 35.2, 32.4,\n",
       "       32. , 33.2, 33.1, 29.1, 35.1, 45.4, 35.4, 46. , 50. , 32.2, 22. ,\n",
       "       20.1, 23.2, 22.3, 24.8, 28.5, 37.3, 27.9, 23.9, 21.7, 28.6, 27.1,\n",
       "       20.3, 22.5, 29. , 24.8, 22. , 26.4, 33.1, 36.1, 28.4, 33.4, 28.2,\n",
       "       22.8, 20.3, 16.1, 22.1, 19.4, 21.6, 23.8, 16.2, 17.8, 19.8, 23.1,\n",
       "       21. , 23.8, 23.1, 20.4, 18.5, 25. , 24.6, 23. , 22.2, 19.3, 22.6,\n",
       "       19.8, 17.1, 19.4, 22.2, 20.7, 21.1, 19.5, 18.5, 20.6, 19. , 18.7,\n",
       "       32.7, 16.5, 23.9, 31.2, 17.5, 17.2, 23.1, 24.5, 26.6, 22.9, 24.1,\n",
       "       18.6, 30.1, 18.2, 20.6, 17.8, 21.7, 22.7, 22.6, 25. , 19.9, 20.8,\n",
       "       16.8, 21.9, 27.5, 21.9, 23.1, 50. , 50. , 50. , 50. , 50. , 13.8,\n",
       "       13.8, 15. , 13.9, 13.3, 13.1, 10.2, 10.4, 10.9, 11.3, 12.3,  8.8,\n",
       "        7.2, 10.5,  7.4, 10.2, 11.5, 15.1, 23.2,  9.7, 13.8, 12.7, 13.1,\n",
       "       12.5,  8.5,  5. ,  6.3,  5.6,  7.2, 12.1,  8.3,  8.5,  5. , 11.9,\n",
       "       27.9, 17.2, 27.5, 15. , 17.2, 17.9, 16.3,  7. ,  7.2,  7.5, 10.4,\n",
       "        8.8,  8.4, 16.7, 14.2, 20.8, 13.4, 11.7,  8.3, 10.2, 10.9, 11. ,\n",
       "        9.5, 14.5, 14.1, 16.1, 14.3, 11.7, 13.4,  9.6,  8.7,  8.4, 12.8,\n",
       "       10.5, 17.1, 18.4, 15.4, 10.8, 11.8, 14.9, 12.6, 14.1, 13. , 13.4,\n",
       "       15.2, 16.1, 17.8, 14.9, 14.1, 12.7, 13.5, 14.9, 20. , 16.4, 17.7,\n",
       "       19.5, 20.2, 21.4, 19.9, 19. , 19.1, 19.1, 20.1, 19.9, 19.6, 23.2,\n",
       "       29.8, 13.8, 13.3, 16.7, 12. , 14.6, 21.4, 23. , 23.7, 25. , 21.8,\n",
       "       20.6, 21.2, 19.1, 20.6, 15.2,  7. ,  8.1, 13.6, 20.1, 21.8, 24.5,\n",
       "       23.1, 19.7, 18.3, 21.2, 17.5, 16.8, 22.4, 20.6, 23.9, 22. , 11.9])"
      ]
     },
     "execution_count": 24,
     "metadata": {},
     "output_type": "execute_result"
    }
   ],
   "source": [
    "y"
   ]
  },
  {
   "cell_type": "code",
   "execution_count": 5,
   "metadata": {},
   "outputs": [
    {
     "data": {
      "text/plain": [
       "RandomForestRegressor(bootstrap=True, criterion='mse', max_depth=None,\n",
       "           max_features='auto', max_leaf_nodes=None,\n",
       "           min_impurity_decrease=0.0, min_impurity_split=None,\n",
       "           min_samples_leaf=1, min_samples_split=2,\n",
       "           min_weight_fraction_leaf=0.0, n_estimators=10, n_jobs=1,\n",
       "           oob_score=False, random_state=None, verbose=0, warm_start=False)"
      ]
     },
     "execution_count": 5,
     "metadata": {},
     "output_type": "execute_result"
    }
   ],
   "source": [
    "# 必要なライブラリのインポート\n",
    "from sklearn.ensemble import RandomForestRegressor\n",
    "# モデル構築、パラメータはデフォルト\n",
    "forest = RandomForestRegressor()\n",
    "forest.fit(X_train, y_train)"
   ]
  },
  {
   "cell_type": "code",
   "execution_count": 10,
   "metadata": {},
   "outputs": [
    {
     "data": {
      "text/plain": [
       "array([[5.78900e-02, 1.25000e+01, 6.07000e+00, ..., 1.89000e+01,\n",
       "        3.96210e+02, 8.10000e+00],\n",
       "       [4.66883e+00, 0.00000e+00, 1.81000e+01, ..., 2.02000e+01,\n",
       "        1.04800e+01, 1.90100e+01],\n",
       "       [2.00849e+01, 0.00000e+00, 1.81000e+01, ..., 2.02000e+01,\n",
       "        2.85830e+02, 3.06300e+01],\n",
       "       ...,\n",
       "       [9.33889e+00, 0.00000e+00, 1.81000e+01, ..., 2.02000e+01,\n",
       "        6.07200e+01, 2.40800e+01],\n",
       "       [2.43938e+01, 0.00000e+00, 1.81000e+01, ..., 2.02000e+01,\n",
       "        3.96900e+02, 2.82800e+01],\n",
       "       [5.20580e-01, 0.00000e+00, 6.20000e+00, ..., 1.74000e+01,\n",
       "        3.88450e+02, 9.54000e+00]])"
      ]
     },
     "execution_count": 10,
     "metadata": {},
     "output_type": "execute_result"
    }
   ],
   "source": [
    "X_train"
   ]
  },
  {
   "cell_type": "code",
   "execution_count": 12,
   "metadata": {},
   "outputs": [
    {
     "data": {
      "text/plain": [
       "array([[4.46200e-02, 2.50000e+01, 4.86000e+00, ..., 1.90000e+01,\n",
       "        3.95630e+02, 7.22000e+00],\n",
       "       [8.24809e+00, 0.00000e+00, 1.81000e+01, ..., 2.02000e+01,\n",
       "        3.75870e+02, 1.67400e+01],\n",
       "       [7.90410e-01, 0.00000e+00, 9.90000e+00, ..., 1.84000e+01,\n",
       "        3.96900e+02, 5.98000e+00],\n",
       "       ...,\n",
       "       [4.41780e-01, 0.00000e+00, 6.20000e+00, ..., 1.74000e+01,\n",
       "        3.80340e+02, 3.76000e+00],\n",
       "       [2.06080e-01, 2.20000e+01, 5.86000e+00, ..., 1.91000e+01,\n",
       "        3.72490e+02, 1.25000e+01],\n",
       "       [1.27440e-01, 0.00000e+00, 6.91000e+00, ..., 1.79000e+01,\n",
       "        3.85410e+02, 4.84000e+00]])"
      ]
     },
     "execution_count": 12,
     "metadata": {},
     "output_type": "execute_result"
    }
   ],
   "source": [
    "X_test"
   ]
  },
  {
   "cell_type": "code",
   "execution_count": 13,
   "metadata": {},
   "outputs": [
    {
     "data": {
      "text/plain": [
       "array([22. , 12.7,  8.8, 13.3, 24.3, 20. , 19.8, 16.4, 24.8, 21.2, 10.4,\n",
       "       21.2, 19.2, 30.7, 27.1, 23.3, 22.2, 27. , 18.2, 17.7, 19.8,  7.4,\n",
       "       22.4, 18.1, 18.6, 10.5, 20. , 19.9, 23.5, 23.1, 19.3, 24.7, 21.6,\n",
       "       48.3, 11.7, 41.7, 14.3, 21.5, 13.6, 13.8, 20.4, 18.5, 37.6, 23.7,\n",
       "       17.3, 16.5, 31.6, 16.2, 24.3, 34.9, 19.5, 17.1, 27.5, 50. , 23.1,\n",
       "       36. , 50. , 22. , 22. , 17.1, 23. , 18.5, 24.1, 21.4,  9.6, 13.3,\n",
       "       22.8, 21.9, 19.4, 21.6, 23.8, 21.7, 11.3,  7.5, 24.4, 28.1, 17.5,\n",
       "       20.7, 39.8, 12.8,  7.2, 50. , 13.4, 44.8, 15.3, 21.7, 18.2, 14.9,\n",
       "       34.6, 22.9, 25. , 20.1, 34.9, 35.2, 22.2, 19.4, 21.9,  8.8, 13.1,\n",
       "       28.7, 44. , 24.5, 20.1, 11.9, 31.5, 21.8, 50. , 22.2, 25.2, 21.2,\n",
       "       50. , 11. , 22.6, 50. , 13.4, 27.9, 31.2, 23.8, 43.8, 29.8, 14.1,\n",
       "       34.9, 14. , 29.1, 19.5, 21.7, 14.3, 21.7, 26.7, 19.7, 23.3, 16.3,\n",
       "       10.2,  8.4, 19.6, 29.8, 23.2, 50. , 28.4, 23.6, 24.6, 20.8, 50. ,\n",
       "       20. ,  8.5, 23. , 15.6,  5. , 17.4, 20.6, 20.3, 23.3, 24.1, 23. ,\n",
       "       28.7, 19.4, 31.1, 27.1, 19.3, 24.1, 15.2, 18.2, 50. , 18.3, 12.7,\n",
       "       24.8, 14.5, 22.8, 29. , 29. , 19.5, 15.2, 18.7, 13.4, 32.5, 18.5,\n",
       "       29.1, 22.3, 20.3, 48.5, 21.9, 22.6, 24.4, 22.8, 16.6, 26.2, 12.7,\n",
       "       21.4, 11.7, 36.1, 10.2, 13.3, 18.4, 21.2, 20.1, 15.1, 41.3,  8.7,\n",
       "       12.1, 10.4, 30.8, 13.8, 22.7, 13.8, 16.8, 25. , 23.4, 30.1, 36.5,\n",
       "       19.2, 19.9, 17.4, 20.5, 48.8, 20. , 14.8, 13.2, 11.8, 33.8, 23.9,\n",
       "       15. , 18.7, 17.2, 16.8, 19.3, 30.3,  8.1, 23.9, 20.6, 21.7, 21. ,\n",
       "       20.6, 24.8, 22.5, 17.1, 50. , 42.3,  8.5, 22.6, 13.8, 20.4, 20.7,\n",
       "       21.4, 16.6, 23.1, 30.5, 15. , 25. , 16.7, 17.2, 32.4, 18.5, 23.8,\n",
       "       17.8, 12.5, 10.2, 14.6, 28.7, 35.4, 18.4, 22.9, 33.2, 26.6, 33.1,\n",
       "       20.9, 19.9, 23.8, 14.6, 22.4, 12.3, 16.1, 13.1, 20.4, 19.6, 20.6,\n",
       "       23.6, 27.5, 14.9, 19.3, 20.8, 21.8, 18.9, 50. , 19. , 31.6, 28. ,\n",
       "       15.6, 13. , 19.6, 21.1, 16.1, 22.5, 28.5, 23. , 34.7, 14.1, 15.7,\n",
       "       21.7, 18.6, 13.4, 50. , 14.1, 19.1, 36.4, 50. , 22. , 19.3, 25.3,\n",
       "       43.1, 46. , 18.3, 22.2, 23.1, 29.4, 20.5, 22.6, 22.9, 22.7, 16.1,\n",
       "       18.8, 27.9, 17.8, 15.6, 17.8, 33.2, 13.8, 24.6, 14.4, 20.2, 50. ,\n",
       "       21.7, 20.9, 28.6, 20. ,  5.6, 25. , 50. , 21.1, 13.1, 30.1, 18.7,\n",
       "       20.5, 27.5, 22. , 11.8, 16.7, 20.6, 13.5, 24.2, 23.1,  7. ,  9.5,\n",
       "       10.5, 25.1])"
      ]
     },
     "execution_count": 13,
     "metadata": {},
     "output_type": "execute_result"
    }
   ],
   "source": [
    "y_train"
   ]
  },
  {
   "cell_type": "code",
   "execution_count": 14,
   "metadata": {},
   "outputs": [
    {
     "data": {
      "text/plain": [
       "array([23.9, 17.8, 22.1, 37.3, 25. , 19.7, 16.2, 18.9, 29.6, 18.4,  8.4,\n",
       "       24.7, 19.8, 15.4, 22.2, 23.3, 26.6, 15.6, 12.6, 28.4, 37. ,  8.3,\n",
       "        7.2, 46.7, 26.5, 19.4, 24.5, 15.6, 37.9, 33. , 43.5,  7. , 24.8,\n",
       "       22.5, 19.4, 20.3, 31. , 30.1, 21. , 13.5, 24.4, 11.9, 24.5, 20.8,\n",
       "       23.7, 10.8, 23.7, 33.1, 22.9, 19.1, 22.3, 32. , 15. , 20.3, 20.6,\n",
       "       20.4, 17.2, 19.9, 17.8, 14.5, 19.6, 23.9, 24. , 14.2, 15.2, 12. ,\n",
       "       22. , 22.6, 17.4, 25. ,  5. , 31.7, 19.6, 23.2, 45.4, 18.9,  7.2,\n",
       "       23.1, 19.5, 35.4, 28.2, 23.4,  9.7, 29.9, 32.9, 17. , 18.9, 27.5,\n",
       "       17.5, 50. , 19.1, 33.3, 24.4, 37.2, 18.8, 14.5, 22.8, 22. , 13.9,\n",
       "       17.9, 18. , 10.9, 23.2, 19. , 17.5, 26.4, 20.2, 21.5, 21.2, 19.4,\n",
       "       38.7, 21.4, 23.1, 10.9, 20.1, 29.6, 13.6, 11.5, 33.4, 16. , 24.3,\n",
       "       23.2, 21. ,  6.3,  8.3, 32. , 13.1, 23.9, 16.5, 14.9, 13.9, 26.4,\n",
       "       23.7, 36.2, 42.8, 32.7, 25. , 33.4, 36.2, 32.2, 25. , 14.4, 35.1,\n",
       "       20.1, 24. , 24.7, 21.4, 19.1, 15.4, 31.5, 17.6, 26.6])"
      ]
     },
     "execution_count": 14,
     "metadata": {},
     "output_type": "execute_result"
    }
   ],
   "source": [
    "y_test"
   ]
  },
  {
   "cell_type": "code",
   "execution_count": 20,
   "metadata": {},
   "outputs": [
    {
     "name": "stdout",
     "output_type": "stream",
     "text": [
      "MSE train : 2.964, test : 14.072\n",
      "MSE train : 0.967, test : 0.803\n"
     ]
    }
   ],
   "source": [
    "# 予測値を計算\n",
    "y_train_pred = forest.predict(X_train)\n",
    "y_test_pred = forest.predict(X_test)\n",
    "# MSEの計算\n",
    "from sklearn.metrics import mean_squared_error\n",
    "print('MSE train : %.3f, test : %.3f' % (mean_squared_error(y_train, y_train_pred), mean_squared_error(y_test, y_test_pred)) )\n",
    "# R^2の計算\n",
    "from sklearn.metrics import r2_score\n",
    "print('MSE train : %.3f, test : %.3f' % (r2_score(y_train, y_train_pred), r2_score(y_test, y_test_pred)) )"
   ]
  },
  {
   "cell_type": "code",
   "execution_count": 21,
   "metadata": {},
   "outputs": [
    {
     "data": {
      "text/plain": [
       "array([21.18, 13.5 ,  9.54, 13.17, 22.56, 19.41, 20.06, 15.57, 24.22,\n",
       "       20.56,  9.54, 21.09, 18.49, 31.98, 20.97, 24.37, 21.22, 26.07,\n",
       "       17.98, 18.31, 19.58,  9.01, 23.44, 17.77, 20.1 , 10.93, 20.48,\n",
       "       20.24, 23.27, 23.77, 20.09, 22.92, 21.4 , 45.55, 13.85, 42.61,\n",
       "       15.47, 21.16, 14.03, 13.88, 21.07, 19.25, 40.63, 20.39, 17.14,\n",
       "       16.67, 34.11, 17.97, 23.91, 33.49, 19.12, 18.11, 18.93, 49.19,\n",
       "       22.66, 36.79, 49.17, 21.59, 22.61, 18.3 , 22.68, 19.08, 24.43,\n",
       "       21.45, 10.52, 13.54, 26.27, 24.71, 19.5 , 21.34, 22.53, 21.49,\n",
       "       11.65,  8.94, 25.84, 26.67, 19.04, 20.88, 39.81, 12.82,  8.07,\n",
       "       38.91, 13.65, 42.76, 18.37, 20.55, 19.12, 14.79, 34.32, 22.32,\n",
       "       24.88, 19.97, 34.43, 37.91, 21.77, 18.77, 22.4 ,  9.71, 13.1 ,\n",
       "       28.27, 42.42, 23.26, 20.18, 12.37, 33.53, 21.19, 46.12, 21.44,\n",
       "       26.35, 21.18, 46.02, 10.65, 23.24, 46.08, 13.23, 36.74, 31.01,\n",
       "       24.2 , 44.42, 29.57, 17.01, 34.72, 14.2 , 28.28, 20.22, 21.29,\n",
       "       13.91, 21.34, 27.04, 19.5 , 23.  , 16.39, 13.48,  9.27, 19.48,\n",
       "       30.39, 21.59, 46.04, 27.2 , 22.94, 24.92, 20.04, 49.88, 18.52,\n",
       "       10.3 , 23.52, 16.11,  5.41, 19.24, 20.79, 20.28, 23.12, 23.76,\n",
       "       20.62, 27.18, 17.7 , 30.65, 26.08, 19.37, 24.96, 15.51, 18.32,\n",
       "       42.57, 18.41, 11.77, 25.61, 15.46, 22.23, 27.61, 30.11, 19.  ,\n",
       "       15.2 , 19.15, 13.21, 29.99, 19.39, 29.64, 21.79, 20.7 , 47.62,\n",
       "       21.13, 22.26, 23.57, 22.35, 17.55, 25.94, 13.15, 21.41, 12.45,\n",
       "       35.6 , 11.2 , 14.35, 20.8 , 20.96, 21.44, 14.27, 37.37,  9.51,\n",
       "       12.94, 15.53, 29.42, 14.59, 22.11, 13.33, 18.99, 28.52, 23.58,\n",
       "       30.63, 36.99, 19.26, 19.68, 17.39, 20.12, 47.54, 20.31, 15.09,\n",
       "       13.6 , 12.72, 35.97, 23.34, 16.36, 18.81, 17.88, 18.64, 19.44,\n",
       "       30.99, 11.22, 26.08, 20.85, 20.42, 21.13, 20.37, 23.81, 22.06,\n",
       "       16.29, 42.12, 41.71,  7.41, 21.96, 14.03, 20.17, 21.87, 21.99,\n",
       "       17.97, 23.87, 30.63, 24.91, 25.29, 15.55, 14.94, 32.03, 18.4 ,\n",
       "       23.12, 18.43, 12.02, 10.59, 14.72, 27.6 , 32.7 , 19.06, 22.9 ,\n",
       "       35.28, 26.71, 32.45, 21.18, 19.98, 21.85, 14.64, 22.02, 12.14,\n",
       "       18.64, 14.13, 20.2 , 19.92, 20.84, 25.78, 26.62, 14.93, 18.93,\n",
       "       20.81, 20.8 , 18.94, 46.15, 19.6 , 31.97, 28.19, 16.68, 14.05,\n",
       "       20.14, 20.7 , 15.61, 22.34, 29.58, 23.07, 36.52, 13.8 , 15.94,\n",
       "       21.82, 18.39, 13.43, 50.  , 14.49, 16.39, 37.58, 48.48, 21.93,\n",
       "       19.68, 24.85, 40.96, 45.66, 18.73, 21.88, 21.96, 27.92, 19.59,\n",
       "       22.11, 23.66, 22.13, 17.66, 18.86, 26.88, 17.08, 16.1 , 16.27,\n",
       "       33.04, 12.75, 24.96, 14.03, 21.  , 48.93, 20.71, 20.63, 28.3 ,\n",
       "       20.18,  6.08, 25.76, 45.26, 21.24, 15.59, 29.67, 18.22, 20.48,\n",
       "       27.69, 22.12, 13.22, 16.01, 21.16, 13.91, 23.94, 22.73,  7.47,\n",
       "       10.46,  9.92, 25.88])"
      ]
     },
     "execution_count": 21,
     "metadata": {},
     "output_type": "execute_result"
    }
   ],
   "source": [
    "y_train_pred"
   ]
  },
  {
   "cell_type": "code",
   "execution_count": 25,
   "metadata": {
    "scrolled": true
   },
   "outputs": [
    {
     "data": {
      "image/png": "[encoded data removed]",
      "text/plain": [
       "<matplotlib.figure.Figure at 0x1a105cadd8>"
      ]
     },
     "metadata": {},
     "output_type": "display_data"
    }
   ],
   "source": [
    "# matplotlibを呼び出し、あとおまじない\n",
    "import matplotlib.pyplot as plt\n",
    "%matplotlib inline\n",
    "plt.figure(figsize = (10, 7))\n",
    "plt.scatter(y_train_pred, y_train_pred - y_train, c = 'black', marker = 'o', s = 35, alpha = 0.5, label = 'Training data')\n",
    "plt.scatter(y_test_pred, y_test_pred - y_test, c = 'lightgreen', marker = 's', s = 35, alpha = 0.7, label = 'Test data')\n",
    "plt.xlabel('Predicted values')\n",
    "plt.ylabel('Residuals')\n",
    "plt.legend(loc = 'upper left')\n",
    "plt.hlines(y = 0, xmin = -10, xmax = 50, lw = 2, color = 'red')\n",
    "plt.xlim([-10, 50])\n",
    "plt.show()"
   ]
  },
  {
   "cell_type": "code",
   "execution_count": 26,
   "metadata": {},
   "outputs": [
    {
     "name": "stderr",
     "output_type": "stream",
     "text": [
      "/Users/arakei/.pyenv/versions/anaconda3-5.1.0/lib/python3.6/site-packages/sklearn/grid_search.py:42: DeprecationWarning: This module was deprecated in version 0.18 in favor of the model_selection module into which all the refactored classes and functions are moved. This module will be removed in 0.20.\n",
      "  DeprecationWarning)\n"
     ]
    }
   ],
   "source": [
    "# 必要なライブラリのインポート\n",
    "from sklearn.grid_search import GridSearchCV\n",
    "# 動かすパラメータを明示的に表示、今回は決定木の数を変えてみる\n",
    "params = {'n_estimators'  : [3, 10, 100, 1000, 10000], 'n_jobs': [-1]}"
   ]
  },
  {
   "cell_type": "code",
   "execution_count": 27,
   "metadata": {},
   "outputs": [
    {
     "name": "stderr",
     "output_type": "stream",
     "text": [
      "/Users/arakei/.pyenv/versions/anaconda3-5.1.0/lib/python3.6/site-packages/sklearn/metrics/scorer.py:100: DeprecationWarning: Scoring method mean_squared_error was renamed to neg_mean_squared_error in version 0.18 and will be removed in 0.20.\n",
      "  sample_weight=sample_weight)\n",
      "/Users/arakei/.pyenv/versions/anaconda3-5.1.0/lib/python3.6/site-packages/sklearn/metrics/scorer.py:100: DeprecationWarning: Scoring method mean_squared_error was renamed to neg_mean_squared_error in version 0.18 and will be removed in 0.20.\n",
      "  sample_weight=sample_weight)\n",
      "/Users/arakei/.pyenv/versions/anaconda3-5.1.0/lib/python3.6/site-packages/sklearn/metrics/scorer.py:100: DeprecationWarning: Scoring method mean_squared_error was renamed to neg_mean_squared_error in version 0.18 and will be removed in 0.20.\n",
      "  sample_weight=sample_weight)\n",
      "/Users/arakei/.pyenv/versions/anaconda3-5.1.0/lib/python3.6/site-packages/sklearn/metrics/scorer.py:100: DeprecationWarning: Scoring method mean_squared_error was renamed to neg_mean_squared_error in version 0.18 and will be removed in 0.20.\n",
      "  sample_weight=sample_weight)\n",
      "/Users/arakei/.pyenv/versions/anaconda3-5.1.0/lib/python3.6/site-packages/sklearn/metrics/scorer.py:100: DeprecationWarning: Scoring method mean_squared_error was renamed to neg_mean_squared_error in version 0.18 and will be removed in 0.20.\n",
      "  sample_weight=sample_weight)\n",
      "/Users/arakei/.pyenv/versions/anaconda3-5.1.0/lib/python3.6/site-packages/sklearn/metrics/scorer.py:100: DeprecationWarning: Scoring method mean_squared_error was renamed to neg_mean_squared_error in version 0.18 and will be removed in 0.20.\n",
      "  sample_weight=sample_weight)\n",
      "/Users/arakei/.pyenv/versions/anaconda3-5.1.0/lib/python3.6/site-packages/sklearn/metrics/scorer.py:100: DeprecationWarning: Scoring method mean_squared_error was renamed to neg_mean_squared_error in version 0.18 and will be removed in 0.20.\n",
      "  sample_weight=sample_weight)\n",
      "/Users/arakei/.pyenv/versions/anaconda3-5.1.0/lib/python3.6/site-packages/sklearn/metrics/scorer.py:100: DeprecationWarning: Scoring method mean_squared_error was renamed to neg_mean_squared_error in version 0.18 and will be removed in 0.20.\n",
      "  sample_weight=sample_weight)\n",
      "/Users/arakei/.pyenv/versions/anaconda3-5.1.0/lib/python3.6/site-packages/sklearn/metrics/scorer.py:100: DeprecationWarning: Scoring method mean_squared_error was renamed to neg_mean_squared_error in version 0.18 and will be removed in 0.20.\n",
      "  sample_weight=sample_weight)\n",
      "/Users/arakei/.pyenv/versions/anaconda3-5.1.0/lib/python3.6/site-packages/sklearn/metrics/scorer.py:100: DeprecationWarning: Scoring method mean_squared_error was renamed to neg_mean_squared_error in version 0.18 and will be removed in 0.20.\n",
      "  sample_weight=sample_weight)\n",
      "/Users/arakei/.pyenv/versions/anaconda3-5.1.0/lib/python3.6/site-packages/sklearn/metrics/scorer.py:100: DeprecationWarning: Scoring method mean_squared_error was renamed to neg_mean_squared_error in version 0.18 and will be removed in 0.20.\n",
      "  sample_weight=sample_weight)\n",
      "/Users/arakei/.pyenv/versions/anaconda3-5.1.0/lib/python3.6/site-packages/sklearn/metrics/scorer.py:100: DeprecationWarning: Scoring method mean_squared_error was renamed to neg_mean_squared_error in version 0.18 and will be removed in 0.20.\n",
      "  sample_weight=sample_weight)\n",
      "/Users/arakei/.pyenv/versions/anaconda3-5.1.0/lib/python3.6/site-packages/sklearn/metrics/scorer.py:100: DeprecationWarning: Scoring method mean_squared_error was renamed to neg_mean_squared_error in version 0.18 and will be removed in 0.20.\n",
      "  sample_weight=sample_weight)\n",
      "/Users/arakei/.pyenv/versions/anaconda3-5.1.0/lib/python3.6/site-packages/sklearn/metrics/scorer.py:100: DeprecationWarning: Scoring method mean_squared_error was renamed to neg_mean_squared_error in version 0.18 and will be removed in 0.20.\n",
      "  sample_weight=sample_weight)\n",
      "/Users/arakei/.pyenv/versions/anaconda3-5.1.0/lib/python3.6/site-packages/sklearn/metrics/scorer.py:100: DeprecationWarning: Scoring method mean_squared_error was renamed to neg_mean_squared_error in version 0.18 and will be removed in 0.20.\n",
      "  sample_weight=sample_weight)\n",
      "/Users/arakei/.pyenv/versions/anaconda3-5.1.0/lib/python3.6/site-packages/sklearn/metrics/scorer.py:100: DeprecationWarning: Scoring method mean_squared_error was renamed to neg_mean_squared_error in version 0.18 and will be removed in 0.20.\n",
      "  sample_weight=sample_weight)\n",
      "/Users/arakei/.pyenv/versions/anaconda3-5.1.0/lib/python3.6/site-packages/sklearn/metrics/scorer.py:100: DeprecationWarning: Scoring method mean_squared_error was renamed to neg_mean_squared_error in version 0.18 and will be removed in 0.20.\n",
      "  sample_weight=sample_weight)\n",
      "/Users/arakei/.pyenv/versions/anaconda3-5.1.0/lib/python3.6/site-packages/sklearn/metrics/scorer.py:100: DeprecationWarning: Scoring method mean_squared_error was renamed to neg_mean_squared_error in version 0.18 and will be removed in 0.20.\n",
      "  sample_weight=sample_weight)\n",
      "/Users/arakei/.pyenv/versions/anaconda3-5.1.0/lib/python3.6/site-packages/sklearn/metrics/scorer.py:100: DeprecationWarning: Scoring method mean_squared_error was renamed to neg_mean_squared_error in version 0.18 and will be removed in 0.20.\n",
      "  sample_weight=sample_weight)\n",
      "/Users/arakei/.pyenv/versions/anaconda3-5.1.0/lib/python3.6/site-packages/sklearn/metrics/scorer.py:100: DeprecationWarning: Scoring method mean_squared_error was renamed to neg_mean_squared_error in version 0.18 and will be removed in 0.20.\n",
      "  sample_weight=sample_weight)\n",
      "/Users/arakei/.pyenv/versions/anaconda3-5.1.0/lib/python3.6/site-packages/sklearn/metrics/scorer.py:100: DeprecationWarning: Scoring method mean_squared_error was renamed to neg_mean_squared_error in version 0.18 and will be removed in 0.20.\n",
      "  sample_weight=sample_weight)\n",
      "/Users/arakei/.pyenv/versions/anaconda3-5.1.0/lib/python3.6/site-packages/sklearn/metrics/scorer.py:100: DeprecationWarning: Scoring method mean_squared_error was renamed to neg_mean_squared_error in version 0.18 and will be removed in 0.20.\n",
      "  sample_weight=sample_weight)\n",
      "/Users/arakei/.pyenv/versions/anaconda3-5.1.0/lib/python3.6/site-packages/sklearn/metrics/scorer.py:100: DeprecationWarning: Scoring method mean_squared_error was renamed to neg_mean_squared_error in version 0.18 and will be removed in 0.20.\n",
      "  sample_weight=sample_weight)\n",
      "/Users/arakei/.pyenv/versions/anaconda3-5.1.0/lib/python3.6/site-packages/sklearn/metrics/scorer.py:100: DeprecationWarning: Scoring method mean_squared_error was renamed to neg_mean_squared_error in version 0.18 and will be removed in 0.20.\n",
      "  sample_weight=sample_weight)\n",
      "/Users/arakei/.pyenv/versions/anaconda3-5.1.0/lib/python3.6/site-packages/sklearn/metrics/scorer.py:100: DeprecationWarning: Scoring method mean_squared_error was renamed to neg_mean_squared_error in version 0.18 and will be removed in 0.20.\n",
      "  sample_weight=sample_weight)\n",
      "/Users/arakei/.pyenv/versions/anaconda3-5.1.0/lib/python3.6/site-packages/sklearn/metrics/scorer.py:100: DeprecationWarning: Scoring method mean_squared_error was renamed to neg_mean_squared_error in version 0.18 and will be removed in 0.20.\n",
      "  sample_weight=sample_weight)\n",
      "/Users/arakei/.pyenv/versions/anaconda3-5.1.0/lib/python3.6/site-packages/sklearn/metrics/scorer.py:100: DeprecationWarning: Scoring method mean_squared_error was renamed to neg_mean_squared_error in version 0.18 and will be removed in 0.20.\n",
      "  sample_weight=sample_weight)\n",
      "/Users/arakei/.pyenv/versions/anaconda3-5.1.0/lib/python3.6/site-packages/sklearn/metrics/scorer.py:100: DeprecationWarning: Scoring method mean_squared_error was renamed to neg_mean_squared_error in version 0.18 and will be removed in 0.20.\n",
      "  sample_weight=sample_weight)\n",
      "/Users/arakei/.pyenv/versions/anaconda3-5.1.0/lib/python3.6/site-packages/sklearn/metrics/scorer.py:100: DeprecationWarning: Scoring method mean_squared_error was renamed to neg_mean_squared_error in version 0.18 and will be removed in 0.20.\n",
      "  sample_weight=sample_weight)\n",
      "/Users/arakei/.pyenv/versions/anaconda3-5.1.0/lib/python3.6/site-packages/sklearn/metrics/scorer.py:100: DeprecationWarning: Scoring method mean_squared_error was renamed to neg_mean_squared_error in version 0.18 and will be removed in 0.20.\n",
      "  sample_weight=sample_weight)\n",
      "/Users/arakei/.pyenv/versions/anaconda3-5.1.0/lib/python3.6/site-packages/sklearn/metrics/scorer.py:100: DeprecationWarning: Scoring method mean_squared_error was renamed to neg_mean_squared_error in version 0.18 and will be removed in 0.20.\n",
      "  sample_weight=sample_weight)\n"
     ]
    },
    {
     "name": "stderr",
     "output_type": "stream",
     "text": [
      "/Users/arakei/.pyenv/versions/anaconda3-5.1.0/lib/python3.6/site-packages/sklearn/metrics/scorer.py:100: DeprecationWarning: Scoring method mean_squared_error was renamed to neg_mean_squared_error in version 0.18 and will be removed in 0.20.\n",
      "  sample_weight=sample_weight)\n",
      "/Users/arakei/.pyenv/versions/anaconda3-5.1.0/lib/python3.6/site-packages/sklearn/metrics/scorer.py:100: DeprecationWarning: Scoring method mean_squared_error was renamed to neg_mean_squared_error in version 0.18 and will be removed in 0.20.\n",
      "  sample_weight=sample_weight)\n",
      "/Users/arakei/.pyenv/versions/anaconda3-5.1.0/lib/python3.6/site-packages/sklearn/metrics/scorer.py:100: DeprecationWarning: Scoring method mean_squared_error was renamed to neg_mean_squared_error in version 0.18 and will be removed in 0.20.\n",
      "  sample_weight=sample_weight)\n",
      "/Users/arakei/.pyenv/versions/anaconda3-5.1.0/lib/python3.6/site-packages/sklearn/metrics/scorer.py:100: DeprecationWarning: Scoring method mean_squared_error was renamed to neg_mean_squared_error in version 0.18 and will be removed in 0.20.\n",
      "  sample_weight=sample_weight)\n",
      "/Users/arakei/.pyenv/versions/anaconda3-5.1.0/lib/python3.6/site-packages/sklearn/metrics/scorer.py:100: DeprecationWarning: Scoring method mean_squared_error was renamed to neg_mean_squared_error in version 0.18 and will be removed in 0.20.\n",
      "  sample_weight=sample_weight)\n",
      "/Users/arakei/.pyenv/versions/anaconda3-5.1.0/lib/python3.6/site-packages/sklearn/metrics/scorer.py:100: DeprecationWarning: Scoring method mean_squared_error was renamed to neg_mean_squared_error in version 0.18 and will be removed in 0.20.\n",
      "  sample_weight=sample_weight)\n",
      "/Users/arakei/.pyenv/versions/anaconda3-5.1.0/lib/python3.6/site-packages/sklearn/metrics/scorer.py:100: DeprecationWarning: Scoring method mean_squared_error was renamed to neg_mean_squared_error in version 0.18 and will be removed in 0.20.\n",
      "  sample_weight=sample_weight)\n",
      "/Users/arakei/.pyenv/versions/anaconda3-5.1.0/lib/python3.6/site-packages/sklearn/metrics/scorer.py:100: DeprecationWarning: Scoring method mean_squared_error was renamed to neg_mean_squared_error in version 0.18 and will be removed in 0.20.\n",
      "  sample_weight=sample_weight)\n",
      "/Users/arakei/.pyenv/versions/anaconda3-5.1.0/lib/python3.6/site-packages/sklearn/metrics/scorer.py:100: DeprecationWarning: Scoring method mean_squared_error was renamed to neg_mean_squared_error in version 0.18 and will be removed in 0.20.\n",
      "  sample_weight=sample_weight)\n",
      "/Users/arakei/.pyenv/versions/anaconda3-5.1.0/lib/python3.6/site-packages/sklearn/metrics/scorer.py:100: DeprecationWarning: Scoring method mean_squared_error was renamed to neg_mean_squared_error in version 0.18 and will be removed in 0.20.\n",
      "  sample_weight=sample_weight)\n",
      "/Users/arakei/.pyenv/versions/anaconda3-5.1.0/lib/python3.6/site-packages/sklearn/metrics/scorer.py:100: DeprecationWarning: Scoring method mean_squared_error was renamed to neg_mean_squared_error in version 0.18 and will be removed in 0.20.\n",
      "  sample_weight=sample_weight)\n",
      "/Users/arakei/.pyenv/versions/anaconda3-5.1.0/lib/python3.6/site-packages/sklearn/metrics/scorer.py:100: DeprecationWarning: Scoring method mean_squared_error was renamed to neg_mean_squared_error in version 0.18 and will be removed in 0.20.\n",
      "  sample_weight=sample_weight)\n",
      "/Users/arakei/.pyenv/versions/anaconda3-5.1.0/lib/python3.6/site-packages/sklearn/metrics/scorer.py:100: DeprecationWarning: Scoring method mean_squared_error was renamed to neg_mean_squared_error in version 0.18 and will be removed in 0.20.\n",
      "  sample_weight=sample_weight)\n",
      "/Users/arakei/.pyenv/versions/anaconda3-5.1.0/lib/python3.6/site-packages/sklearn/metrics/scorer.py:100: DeprecationWarning: Scoring method mean_squared_error was renamed to neg_mean_squared_error in version 0.18 and will be removed in 0.20.\n",
      "  sample_weight=sample_weight)\n",
      "/Users/arakei/.pyenv/versions/anaconda3-5.1.0/lib/python3.6/site-packages/sklearn/metrics/scorer.py:100: DeprecationWarning: Scoring method mean_squared_error was renamed to neg_mean_squared_error in version 0.18 and will be removed in 0.20.\n",
      "  sample_weight=sample_weight)\n",
      "/Users/arakei/.pyenv/versions/anaconda3-5.1.0/lib/python3.6/site-packages/sklearn/metrics/scorer.py:100: DeprecationWarning: Scoring method mean_squared_error was renamed to neg_mean_squared_error in version 0.18 and will be removed in 0.20.\n",
      "  sample_weight=sample_weight)\n",
      "/Users/arakei/.pyenv/versions/anaconda3-5.1.0/lib/python3.6/site-packages/sklearn/metrics/scorer.py:100: DeprecationWarning: Scoring method mean_squared_error was renamed to neg_mean_squared_error in version 0.18 and will be removed in 0.20.\n",
      "  sample_weight=sample_weight)\n",
      "/Users/arakei/.pyenv/versions/anaconda3-5.1.0/lib/python3.6/site-packages/sklearn/metrics/scorer.py:100: DeprecationWarning: Scoring method mean_squared_error was renamed to neg_mean_squared_error in version 0.18 and will be removed in 0.20.\n",
      "  sample_weight=sample_weight)\n",
      "/Users/arakei/.pyenv/versions/anaconda3-5.1.0/lib/python3.6/site-packages/sklearn/metrics/scorer.py:100: DeprecationWarning: Scoring method mean_squared_error was renamed to neg_mean_squared_error in version 0.18 and will be removed in 0.20.\n",
      "  sample_weight=sample_weight)\n"
     ]
    },
    {
     "data": {
      "text/plain": [
       "GridSearchCV(cv=10, error_score='raise',\n",
       "       estimator=RandomForestRegressor(bootstrap=True, criterion='mse', max_depth=None,\n",
       "           max_features='auto', max_leaf_nodes=None,\n",
       "           min_impurity_decrease=0.0, min_impurity_split=None,\n",
       "           min_samples_leaf=1, min_samples_split=2,\n",
       "           min_weight_fraction_leaf=0.0, n_estimators=10, n_jobs=1,\n",
       "           oob_score=False, random_state=None, verbose=0, warm_start=False),\n",
       "       fit_params={}, iid=True, n_jobs=1,\n",
       "       param_grid={'n_estimators': [3, 10, 100, 1000, 10000], 'n_jobs': [-1]},\n",
       "       pre_dispatch='2*n_jobs', refit=True, scoring='mean_squared_error',\n",
       "       verbose=0)"
      ]
     },
     "execution_count": 27,
     "metadata": {},
     "output_type": "execute_result"
    }
   ],
   "source": [
    "# モデルにインスタンス生成\n",
    "mod = RandomForestRegressor()\n",
    "# ハイパーパラメータ探索\n",
    "cv = GridSearchCV(mod, params, cv = 10, scoring= 'mean_squared_error', n_jobs =1)\n",
    "cv.fit(X_train, y_train)"
   ]
  },
  {
   "cell_type": "code",
   "execution_count": 31,
   "metadata": {},
   "outputs": [
    {
     "name": "stdout",
     "output_type": "stream",
     "text": [
      "MSE train : 1.754, test : 13.308\n",
      "MSE train : 0.981, test : 0.813\n"
     ]
    }
   ],
   "source": [
    "# 予測値を計算\n",
    "y_train_pred = cv.predict(X_train)\n",
    "y_test_pred = cv.predict(X_test)\n",
    "# MSEの計算\n",
    "from sklearn.metrics import mean_squared_error\n",
    "print('MSE train : %.3f, test : %.3f' % (mean_squared_error(y_train, y_train_pred), mean_squared_error(y_test, y_test_pred)) )\n",
    "# R^2の計算\n",
    "from sklearn.metrics import r2_score\n",
    "print('MSE train : %.3f, test : %.3f' % (r2_score(y_train, y_train_pred), r2_score(y_test, y_test_pred)) )"
   ]
  },
  {
   "cell_type": "code",
   "execution_count": 32,
   "metadata": {},
   "outputs": [
    {
     "name": "stdout",
     "output_type": "stream",
     "text": [
      "-12.211282088179855\n",
      "{'n_estimators': 10000, 'n_jobs': -1}\n"
     ]
    }
   ],
   "source": [
    "print(cv.best_score_)  # 最も良かったスコア\n",
    "print(cv.best_params_)  # 上記を記録したパラメータの組み合わせ"
   ]
  },
  {
   "cell_type": "code",
   "execution_count": null,
   "metadata": {},
   "outputs": [],
   "source": []
  }
 ],
 "metadata": {
  "kernelspec": {
   "display_name": "Python 3",
   "language": "python",
   "name": "python3"
  },
  "language_info": {
   "codemirror_mode": {
    "name": "ipython",
    "version": 3
   },
   "file_extension": ".py",
   "mimetype": "text/x-python",
   "name": "python",
   "nbconvert_exporter": "python",
   "pygments_lexer": "ipython3",
   "version": "3.6.4"
  }
 },
 "nbformat": 4,
 "nbformat_minor": 2
}
