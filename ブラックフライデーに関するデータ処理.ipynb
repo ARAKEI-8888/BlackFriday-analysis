{
 "cells": [
  {
   "cell_type": "markdown",
   "metadata": {},
   "source": [
    "# データ処理の流れ\n",
    "1. CSVデータをimport\n",
    "2. いらない列を削除\n",
    "3. 性別とか職業をフラグに変換\n",
    "4. UserID毎に購入金額を集計\n",
    "# 参考になっているサイト\n",
    "- ゆるふわPandasチートシート\n",
    "https://qiita.com/tanemaki/items/2ed05e258ef4c9e6caac\n",
    "\n",
    "- \n",
    "http://ailaby.com/groupby_easy/"
   ]
  },
  {
   "cell_type": "code",
   "execution_count": null,
   "metadata": {},
   "outputs": [],
   "source": [
    "# モジュールのimport\n",
    "import pandas as pd"
   ]
  },
  {
   "cell_type": "code",
   "execution_count": null,
   "metadata": {},
   "outputs": [],
   "source": [
    "df = pd.read_csv('BlackFriday.csv')"
   ]
  },
  {
   "cell_type": "code",
   "execution_count": null,
   "metadata": {},
   "outputs": [],
   "source": [
    "df.head(5)"
   ]
  },
  {
   "cell_type": "code",
   "execution_count": null,
   "metadata": {},
   "outputs": [],
   "source": [
    "print(\"*********************************\")\n",
    "print(df.dtypes)\n",
    "print(\"*********************************\")\n",
    "print(df.index)\n",
    "print(\"*********************************\")"
   ]
  },
  {
   "cell_type": "code",
   "execution_count": null,
   "metadata": {},
   "outputs": [],
   "source": [
    "df = df.drop('Product_Category_1', axis=1)\n",
    "df = df.drop('Product_Category_2', axis=1)\n",
    "df = df.drop('Product_Category_3', axis=1)\n",
    "print(df.dtypes)"
   ]
  },
  {
   "cell_type": "code",
   "execution_count": null,
   "metadata": {},
   "outputs": [],
   "source": [
    "# カテゴリ変数をone-hot codingで離散化\n",
    "list = ['Gender','Age','Occupation','City_Category','Stay_In_Current_City_Years','Marital_Status']\n",
    "for col in list:\n",
    "    colname = col\n",
    "    df_dummies = pd.get_dummies(df[colname], prefix=colname)\n",
    "    df.drop([colname], axis=1, inplace=True)\n",
    "    df = df.join(df_dummies)"
   ]
  },
  {
   "cell_type": "code",
   "execution_count": null,
   "metadata": {},
   "outputs": [],
   "source": [
    "df.head(5)\n",
    "print(df.dtypes)"
   ]
  },
  {
   "cell_type": "code",
   "execution_count": null,
   "metadata": {},
   "outputs": [],
   "source": [
    "df_groupby = df.groupby(\"User_ID\",as_index=False)"
   ]
  },
  {
   "cell_type": "code",
   "execution_count": null,
   "metadata": {},
   "outputs": [],
   "source": [
    "df_groupby.head(5)"
   ]
  },
  {
   "cell_type": "code",
   "execution_count": null,
   "metadata": {},
   "outputs": [],
   "source": [
    "df_groupby.('User_ID').[['Purchase']].sum()"
   ]
  },
  {
   "cell_type": "code",
   "execution_count": null,
   "metadata": {},
   "outputs": [],
   "source": []
  },
  {
   "cell_type": "code",
   "execution_count": null,
   "metadata": {},
   "outputs": [],
   "source": []
  }
 ],
 "metadata": {
  "kernelspec": {
   "display_name": "Python 3",
   "language": "python",
   "name": "python3"
  },
  "language_info": {
   "codemirror_mode": {
    "name": "ipython",
    "version": 3
   },
   "file_extension": ".py",
   "mimetype": "text/x-python",
   "name": "python",
   "nbconvert_exporter": "python",
   "pygments_lexer": "ipython3",
   "version": "3.6.4"
  }
 },
 "nbformat": 4,
 "nbformat_minor": 2
}
